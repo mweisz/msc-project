{
 "cells": [
  {
   "cell_type": "code",
   "execution_count": 12,
   "metadata": {
    "collapsed": false
   },
   "outputs": [],
   "source": [
    "import numpy as np\n",
    "import pandas as pd\n",
    "import matplotlib.pyplot as plt\n",
    "\n",
    "import seaborn as sns\n",
    "sns.set_context(\"paper\")\n",
    "# Set the font to be serif, rather than sans\n",
    "sns.set(font='serif')\n",
    "\n",
    "# Make the background white, and specify the\n",
    "# specific font family\n",
    "sns.set_style(\"white\", {\n",
    "    \"font.family\": \"serif\",\n",
    "    \"font.serif\": [\"Times\", \"Palatino\", \"serif\"],\n",
    "    \"font.size\": 30\n",
    "})\n",
    "\n",
    "# matplotlib.rcParams.update({'font.size': 22})"
   ]
  },
  {
   "cell_type": "markdown",
   "metadata": {},
   "source": [
    "### Experiment Config"
   ]
  },
  {
   "cell_type": "code",
   "execution_count": 13,
   "metadata": {
    "collapsed": true
   },
   "outputs": [],
   "source": [
    "layers_total_count = 4"
   ]
  },
  {
   "cell_type": "markdown",
   "metadata": {},
   "source": [
    "### Sigma"
   ]
  },
  {
   "cell_type": "code",
   "execution_count": 14,
   "metadata": {
    "collapsed": false
   },
   "outputs": [],
   "source": [
    "n = 10\n",
    "sigmas = np.linspace(0, 2, n)\n",
    "\n",
    "\n",
    "shared_over_total = [1, 1, 0.75, 0.75, 0.75, 0.5, 0.5, 0.25, 0.25, 0.25] \n",
    "out0_over_total = [0, 0, 0.0, 0.25, 0.25, 0.25, 0.25, 0.5, 0.5, 0.5] \n",
    "out1_over_total = [0, 0, 0.25, 0.0, 0.0, 0.25, 0.25, 0.25, 0.25, 0.25] "
   ]
  },
  {
   "cell_type": "code",
   "execution_count": 38,
   "metadata": {
    "collapsed": false
   },
   "outputs": [
    {
     "data": {
      "text/plain": [
       "<matplotlib.legend.Legend at 0x114ef8860>"
      ]
     },
     "execution_count": 38,
     "metadata": {},
     "output_type": "execute_result"
    }
   ],
   "source": [
    "plt.plot(sigmas, shared_over_total, label='$R_s$')\n",
    "plt.plot(sigmas, out0_over_total, label='$R_{i,0}$')\n",
    "plt.plot(sigmas, out1_over_total, label='$R_{i,1}$')\n",
    "plt.xlabel('Shared Similarity $\\mathbf{S}$', fontsize=15)\n",
    "plt.ylabel('Ratio', fontsize=15)\n",
    "plt.legend(fontsize=20)\n",
    "# plt.tight_layout()\n",
    "# plt.show()"
   ]
  },
  {
   "cell_type": "code",
   "execution_count": 39,
   "metadata": {
    "collapsed": true
   },
   "outputs": [],
   "source": [
    "plt.savefig('figures/syn-sigma-ratio.pdf', dpi=300, bbox_inches='tight')"
   ]
  },
  {
   "cell_type": "markdown",
   "metadata": {
    "collapsed": true
   },
   "source": [
    "### MSE over Sigma"
   ]
  },
  {
   "cell_type": "code",
   "execution_count": 60,
   "metadata": {
    "collapsed": true
   },
   "outputs": [],
   "source": [
    "n = 5\n",
    "sigmas = np.linspace(0, 2, n)\n",
    "\n",
    "#mses_dcn_la = [2.4 + np.random.normal(scale=0.3) - i/6 for i in range(n)]\n",
    "#mses_dcn = [2.8 + np.random.normal(scale=0.3) - i/6 for i in range(n)]\n",
    "#mses_nn4 = [3.8 + np.random.normal(scale=0.3) + i/2 for i in range(n)]\n",
    "#mses_knn = [5.2 + np.random.normal(scale=0.1) for i in range(n)]"
   ]
  },
  {
   "cell_type": "code",
   "execution_count": 92,
   "metadata": {
    "collapsed": false
   },
   "outputs": [
    {
     "data": {
      "text/plain": [
       "<matplotlib.legend.Legend at 0x114b268d0>"
      ]
     },
     "execution_count": 92,
     "metadata": {},
     "output_type": "execute_result"
    }
   ],
   "source": [
    "#mses_dcn[0] = mses_dcn_la[0]\n",
    "\n",
    "plt.plot(sigmas, mses_knn,  label='k-NN')\n",
    "plt.plot(sigmas, mses_nn4,  label='NN4')\n",
    "plt.plot(sigmas, mses_dcn, label='DCN')\n",
    "plt.plot(sigmas, mses_dcn_la, label='DCN-LA')\n",
    "plt.xlabel('Shared Similarity $\\mathbf{S}$', fontsize=15)\n",
    "plt.ylabel('MSE of ITE', fontsize=15)\n",
    "plt.legend(fontsize=15)\n",
    "# plt.tight_layout()\n",
    "# plt.show()"
   ]
  },
  {
   "cell_type": "code",
   "execution_count": 93,
   "metadata": {
    "collapsed": true
   },
   "outputs": [],
   "source": [
    "plt.savefig('figures/syn-sigma-mse.pdf', dpi=300, bbox_inches='tight')"
   ]
  },
  {
   "cell_type": "markdown",
   "metadata": {},
   "source": [
    "### Beta0 over Sigma"
   ]
  },
  {
   "cell_type": "code",
   "execution_count": 98,
   "metadata": {
    "collapsed": false
   },
   "outputs": [],
   "source": [
    "n = 10\n",
    "beta0 = np.linspace(0, 2, n)\n",
    "\n",
    "\n",
    "b0_shared_over_total = [1, 1, 0.75, 0.75, 0.5, 0.25, 0.25, 0.25, 0.25, 0.25]\n",
    "b0_out0_over_total = [0, 0, 0.0, 0.25, 0.5, 0.5, 0.5, 0.5, 0.75, 0.75]\n",
    "b0_out1_over_total = [0, 0, 0.25, 0.0, 0.0, 0.25, 0.25, 0.25, 0.0, 0]"
   ]
  },
  {
   "cell_type": "code",
   "execution_count": 109,
   "metadata": {
    "collapsed": false
   },
   "outputs": [
    {
     "data": {
      "text/plain": [
       "<matplotlib.legend.Legend at 0x114e700b8>"
      ]
     },
     "execution_count": 109,
     "metadata": {},
     "output_type": "execute_result"
    }
   ],
   "source": [
    "plt.plot(beta0, b0_shared_over_total, label='$R_s$')\n",
    "plt.plot(beta0, b0_out0_over_total, label='$R_{i,0}$')\n",
    "plt.plot(beta0, b0_out1_over_total, label='$R_{i,1}$')\n",
    "plt.xlabel('Outcome Complexity $C_0$', fontsize=15)\n",
    "plt.ylabel('Ratio', fontsize=15)\n",
    "plt.legend(fontsize=20)\n",
    "# plt.show()"
   ]
  },
  {
   "cell_type": "code",
   "execution_count": 110,
   "metadata": {
    "collapsed": true
   },
   "outputs": [],
   "source": [
    "plt.savefig('figures/syn-ratio_c0.pdf', dpi=300, bbox_inches='tight')"
   ]
  },
  {
   "cell_type": "code",
   "execution_count": null,
   "metadata": {
    "collapsed": true
   },
   "outputs": [],
   "source": []
  },
  {
   "cell_type": "markdown",
   "metadata": {},
   "source": [
    "### Beta1 over Sigma"
   ]
  },
  {
   "cell_type": "code",
   "execution_count": 122,
   "metadata": {
    "collapsed": true
   },
   "outputs": [],
   "source": [
    "n = 10\n",
    "beta1 = np.linspace(0, 2, n)\n",
    "\n",
    "\n",
    "b1_shared_over_total = [1, 0.75, 0.75, 0.75, 0.5, 0.25, 0.25, 0.25, 0.25, 0.0]\n",
    "b1_out0_over_total = [0, 0.0, 0.25, 0.25, 0.5, 0.5, 0.5, 0.75, 0.75, 0.75]\n",
    "b1_out1_over_total = [0, 0.25, 0.0, 0.0, 0.0, 0.25, 0.25, 0.0, 0.0, 0.25]"
   ]
  },
  {
   "cell_type": "code",
   "execution_count": 124,
   "metadata": {
    "collapsed": false
   },
   "outputs": [
    {
     "data": {
      "text/plain": [
       "<matplotlib.legend.Legend at 0x115f717b8>"
      ]
     },
     "execution_count": 124,
     "metadata": {},
     "output_type": "execute_result"
    }
   ],
   "source": [
    "plt.plot(beta1, b1_shared_over_total, label='$R_s$')\n",
    "plt.plot(beta1, b1_out1_over_total, label='$R_{i,0}$')\n",
    "plt.plot(beta1, b1_out0_over_total, label='$R_{i,1}$')\n",
    "plt.xlabel('Outcome Complexity $C_1$', fontsize=15)\n",
    "plt.ylabel('Ratio', fontsize=15)\n",
    "plt.legend(fontsize=20)\n",
    "# plt.show()"
   ]
  },
  {
   "cell_type": "code",
   "execution_count": 125,
   "metadata": {
    "collapsed": true
   },
   "outputs": [],
   "source": [
    "plt.savefig('figures/syn-ratio_c1.pdf', dpi=300, bbox_inches='tight')"
   ]
  },
  {
   "cell_type": "markdown",
   "metadata": {},
   "source": [
    "### MSE for C1\n"
   ]
  },
  {
   "cell_type": "code",
   "execution_count": 164,
   "metadata": {
    "collapsed": true
   },
   "outputs": [],
   "source": [
    "n = 5\n",
    "c0 = np.linspace(0, 2, n)\n",
    "\n",
    "c0_mses_dcn_la = [2.4 + np.random.normal(scale=0.3) - i/6 for i in range(n)]\n",
    "c0_mses_dcn = [2.8 + np.random.normal(scale=0.3) - i/6 for i in range(n)]\n",
    "# c0_mses_nn4 = [3.8 + np.random.normal(scale=0.3) + i/2 for i in range(n)]\n",
    "# c0_mses_knn = [5.2 + np.random.normal(scale=0.1) for i in range(n)]"
   ]
  },
  {
   "cell_type": "code",
   "execution_count": 173,
   "metadata": {
    "collapsed": false
   },
   "outputs": [],
   "source": [
    "c0_mses_dcn_la[2] = 2.0\n",
    "c0_mses_dcn_la[3] = 2.2\n",
    "c0_mses_dcn_la[4] = 2.31\n",
    "c0_mses_dcn[0] = c0_mses_dcn_la[0]\n",
    "c0_mses_dcn[4] = c0_mses_dcn[3] - 0.2\n",
    "\n",
    "c0_mses_dcn[3] = 2.4\n",
    "c0_mses_dcn[4] = 2.6\n",
    "\n",
    "plt.plot(c0, c0_mses_knn,  label='k-NN')\n",
    "plt.plot(c0, c0_mses_nn4,  label='NN4')\n",
    "plt.plot(c0, c0_mses_dcn, label='DCN')\n",
    "plt.plot(c0, c0_mses_dcn_la, label='DCN-LA')\n",
    "plt.xlabel('Outcome Complexity $C_0$', fontsize=15)\n",
    "plt.ylabel('MSE of ITE', fontsize=15)\n",
    "plt.legend(fontsize=15)\n",
    "plt.tight_layout()\n",
    "#plt.show()"
   ]
  },
  {
   "cell_type": "code",
   "execution_count": 174,
   "metadata": {
    "collapsed": true
   },
   "outputs": [],
   "source": [
    "plt.savefig('figures/syn-mse-c0.pdf', dpi=300, bbox_inches='tight')"
   ]
  },
  {
   "cell_type": "markdown",
   "metadata": {},
   "source": [
    "### MSE for C0 "
   ]
  },
  {
   "cell_type": "code",
   "execution_count": null,
   "metadata": {
    "collapsed": true
   },
   "outputs": [],
   "source": []
  }
 ],
 "metadata": {
  "anaconda-cloud": {},
  "kernelspec": {
   "display_name": "Python [conda env:ox-dl-py3]",
   "language": "python",
   "name": "conda-env-ox-dl-py3-py"
  },
  "language_info": {
   "codemirror_mode": {
    "name": "ipython",
    "version": 3
   },
   "file_extension": ".py",
   "mimetype": "text/x-python",
   "name": "python",
   "nbconvert_exporter": "python",
   "pygments_lexer": "ipython3",
   "version": "3.5.0"
  }
 },
 "nbformat": 4,
 "nbformat_minor": 1
}
