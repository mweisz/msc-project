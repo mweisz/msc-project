{
 "cells": [
  {
   "cell_type": "code",
   "execution_count": 198,
   "metadata": {
    "collapsed": true
   },
   "outputs": [],
   "source": [
    "import numpy as np\n",
    "import pandas as pd\n",
    "import matplotlib.pyplot as plt"
   ]
  },
  {
   "cell_type": "markdown",
   "metadata": {},
   "source": [
    "### Parameters"
   ]
  },
  {
   "cell_type": "code",
   "execution_count": 322,
   "metadata": {
    "collapsed": true
   },
   "outputs": [],
   "source": [
    "global_config = {}\n",
    "\n",
    "global_config['num_samples'] = 1000\n",
    "global_config['num_features'] = 5\n",
    "global_config['num_experiments'] = 5\n",
    "\n",
    "# Delta (measure for imbalance of treatment assigment)\n",
    "# delta = 0 --> P(w=1 | X) = 0.5\n",
    "# The greater delta, the higher the portion of treated patients\n",
    "global_config['delta'] = 0.3 # = np.linspace(0, 1, num=10)\n",
    "\n",
    "\n",
    "# Sigma (measure of how similar the two outcomes are)\n",
    "# sigma = 0 --> outcomes have maximum similarity\n",
    "# The greater sigma, the more different the outcomes are\n",
    "global_config['sigma'] = 1.0 \n",
    "\n",
    "\n",
    "# Alpha\n",
    "# controls the similarity between the outcomes (namely the second part linear vs. quadratic)\n",
    "global_config['alpha0'] = 1.0\n",
    "global_config['alpha1'] = 1.0"
   ]
  },
  {
   "cell_type": "markdown",
   "metadata": {},
   "source": [
    "### Helper Functions"
   ]
  },
  {
   "cell_type": "code",
   "execution_count": 323,
   "metadata": {
    "collapsed": true
   },
   "outputs": [],
   "source": [
    "def sigmoid(x):\n",
    "    return 1.0 / (1.0 + np.exp(-x))\n",
    "\n",
    "# Outcome 0\n",
    "def f0(x, b0, a0, g0):\n",
    "    # Linear (X * g0)\n",
    "    return np.dot(X, b0) + a0 * np.exp(np.dot(X, g0))\n",
    "\n",
    "# Outcome 1\n",
    "def f1(x, b1, a1, g1):\n",
    "    # Quadratic  (X * (g1*g1))\n",
    "    return np.dot(X, b1) + a1 * np.exp(np.dot(X, g1 * g1))"
   ]
  },
  {
   "cell_type": "markdown",
   "metadata": {},
   "source": [
    "### Generate Data"
   ]
  },
  {
   "cell_type": "code",
   "execution_count": 324,
   "metadata": {
    "collapsed": false
   },
   "outputs": [],
   "source": [
    "def draw_data(N, D, alphas, sigma, delta, X=None):\n",
    "    # Features\n",
    "    if X is None:\n",
    "        X = np.random.uniform(low=0.0, high=1.0, size=[N, D])\n",
    "        \n",
    "    # Treatment Assignment (imbalance depending on delta)\n",
    "    treatment_probability = sigmoid(delta * np.sum(X, axis=1))\n",
    "    T = np.random.binomial(n=1, p=treatment_probability)\n",
    "    \n",
    "    # Draw Parameters\n",
    "    beta1 = np.random.choice([0, 0.1, 0.2, 0.3, 0.4], size=D, replace=True, p=[0.6, 0.1, 0.1, 0.1,0.1])\n",
    "    beta0 = np.random.normal(loc=beta1, scale=sigma)\n",
    "    gamma1 = np.random.choice([0, 0.1, 0.2, 0.3, 0.4], size=D, replace=True, p=[0.6, 0.1, 0.1, 0.1,0.1])\n",
    "    gamma0 = np.random.normal(loc=gamma1, scale=sigma)\n",
    "    \n",
    "    # Outcomes\n",
    "    Y0 = f0(X, beta0, alphas[0], gamma0) + np.random.normal(loc=0.0, scale=1.0, size=N)\n",
    "    Y1 = f1(X, beta1, alphas[1], gamma1) + np.random.normal(loc=0.0, scale=1.0, size=N)\n",
    "    \n",
    "    # Convert to DataFrame\n",
    "    X_df = pd.DataFrame(X, columns=['X{}'.format(i) for i in range(D)])\n",
    "    T_df = pd.DataFrame(T, columns=['T'])\n",
    "    Y0_df = pd.DataFrame(Y0, columns=['Y0'])\n",
    "    Y1_df = pd.DataFrame(Y1, columns=['Y1'])\n",
    "    return pd.concat([X_df, T_df, Y0_df, Y1_df], axis=1)\n",
    "    "
   ]
  },
  {
   "cell_type": "code",
   "execution_count": 325,
   "metadata": {
    "collapsed": false
   },
   "outputs": [
    {
     "name": "stdout",
     "output_type": "stream",
     "text": [
      "        X0        X1        X2        X3        X4  T        Y0        Y1\n",
      "0  0.83870  0.831262  0.264155  0.738776  0.785354  0  4.608120  3.866695\n",
      "1  0.81432  0.418329  0.953985  0.468292  0.398643  1  5.322528  3.173472\n",
      "        X0        X1        X2        X3        X4  T        Y0        Y1\n",
      "0  0.83870  0.831262  0.264155  0.738776  0.785354  1  1.974484  1.234654\n",
      "1  0.81432  0.418329  0.953985  0.468292  0.398643  1  0.186798  1.097673\n",
      "        X0        X1        X2        X3        X4  T        Y0        Y1\n",
      "0  0.83870  0.831262  0.264155  0.738776  0.785354  1  2.338402  1.781791\n",
      "1  0.81432  0.418329  0.953985  0.468292  0.398643  1  1.651494  3.059807\n",
      "        X0        X1        X2        X3        X4  T        Y0        Y1\n",
      "0  0.83870  0.831262  0.264155  0.738776  0.785354  1  4.319185  0.313083\n",
      "1  0.81432  0.418329  0.953985  0.468292  0.398643  1  2.967771  0.808940\n",
      "        X0        X1        X2        X3        X4  T        Y0        Y1\n",
      "0  0.83870  0.831262  0.264155  0.738776  0.785354  1  3.794037  2.757251\n",
      "1  0.81432  0.418329  0.953985  0.468292  0.398643  1  2.858215  1.547348\n"
     ]
    }
   ],
   "source": [
    "# Keep covariates fixed across all experiments\n",
    "X = np.random.uniform(low=0.0, high=1.0, size=[global_config['num_samples'], \n",
    "                                               global_config['num_features']])\n",
    "\n",
    "for experiment_id in range(num_experiments):\n",
    "    data = draw_data(global_config['num_samples'], \n",
    "                     global_config['num_features'], \n",
    "                     alphas=[global_config['alpha0'], global_config['alpha1']], \n",
    "                     sigma=global_config['sigma'], \n",
    "                     delta=global_config['delta'],\n",
    "                     X=X)\n",
    "    print(data.head(n=2))"
   ]
  },
  {
   "cell_type": "markdown",
   "metadata": {},
   "source": [
    "## Explore Data and Parameters"
   ]
  },
  {
   "cell_type": "code",
   "execution_count": 326,
   "metadata": {
    "collapsed": true
   },
   "outputs": [],
   "source": [
    "# Keep covariates fixed across all experiments\n",
    "X = np.random.uniform(low=0.0, high=1.0, size=[global_config['num_samples'], \n",
    "                                               global_config['num_features']])"
   ]
  },
  {
   "cell_type": "markdown",
   "metadata": {},
   "source": [
    "### Delta (Imbalance regarding Treatment Assignment)"
   ]
  },
  {
   "cell_type": "code",
   "execution_count": 328,
   "metadata": {
    "collapsed": false
   },
   "outputs": [
    {
     "name": "stdout",
     "output_type": "stream",
     "text": [
      "Delta: 0.0000\t p(treated)=0.4940\n",
      "Delta: 0.5000\t p(treated)=0.7780\n",
      "Delta: 1.0000\t p(treated)=0.9180\n",
      "Delta: 1.5000\t p(treated)=0.9730\n",
      "Delta: 2.0000\t p(treated)=0.9860\n"
     ]
    }
   ],
   "source": [
    "deltas = np.linspace(0, 2, num=5)\n",
    "for delta in deltas:\n",
    "    data = draw_data(global_config['num_samples'], \n",
    "                 global_config['num_features'], \n",
    "                 alphas=[global_config['alpha0'], global_config['alpha1']], \n",
    "                 sigma=global_config['sigma'], \n",
    "                 delta=delta,\n",
    "                 X=X)\n",
    "    p_treated = np.mean(data['T'], axis=0)\n",
    "    print('Delta: {:.4f}\\t p(treated)={:.4f}'.format(delta, p_treated))\n",
    "    "
   ]
  },
  {
   "cell_type": "markdown",
   "metadata": {},
   "source": [
    "### Sigma"
   ]
  },
  {
   "cell_type": "code",
   "execution_count": 321,
   "metadata": {
    "collapsed": false
   },
   "outputs": [
    {
     "data": {
      "image/png": "[encoded data removed]",
      "text/plain": [
       "<matplotlib.figure.Figure at 0x10fcd17f0>"
      ]
     },
     "metadata": {},
     "output_type": "display_data"
    }
   ],
   "source": [
    "sigmas = np.linspace(0, 2, num=10)\n",
    "ATEs = []\n",
    "for sigma in sigmas:\n",
    "    data = draw_data(global_config['num_samples'], \n",
    "                 global_config['num_features'], \n",
    "                 alphas=[global_config['alpha0'], global_config['alpha1']], \n",
    "                 sigma=sigma, \n",
    "                 delta=global_config['delta'],\n",
    "                 X=X)\n",
    "    \n",
    "    ATE = np.mean(np.abs(data['Y0'] - data['Y1']))\n",
    "    ATEs.append(ATE)\n",
    "    #print('Sigma: {:.4f}\\t ATE={:.4f}'.format(sigma, ATE))\n",
    "\n",
    "plt.plot(sigmas, ATEs)\n",
    "plt.show()\n",
    "    "
   ]
  },
  {
   "cell_type": "code",
   "execution_count": 273,
   "metadata": {
    "collapsed": false
   },
   "outputs": [
    {
     "data": {
      "text/plain": [
       "0.35869065229595681"
      ]
     },
     "execution_count": 273,
     "metadata": {},
     "output_type": "execute_result"
    }
   ],
   "source": [
    "np.mean(data['Y0'] - data['Y1'])"
   ]
  },
  {
   "cell_type": "code",
   "execution_count": null,
   "metadata": {
    "collapsed": true
   },
   "outputs": [],
   "source": []
  }
 ],
 "metadata": {
  "anaconda-cloud": {},
  "kernelspec": {
   "display_name": "Python [conda env:ox-dl-py3]",
   "language": "python",
   "name": "conda-env-ox-dl-py3-py"
  },
  "language_info": {
   "codemirror_mode": {
    "name": "ipython",
    "version": 3
   },
   "file_extension": ".py",
   "mimetype": "text/x-python",
   "name": "python",
   "nbconvert_exporter": "python",
   "pygments_lexer": "ipython3",
   "version": "3.5.0"
  }
 },
 "nbformat": 4,
 "nbformat_minor": 1
}
