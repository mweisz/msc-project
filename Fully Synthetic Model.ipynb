{
 "cells": [
  {
   "cell_type": "code",
   "execution_count": 143,
   "metadata": {
    "collapsed": true
   },
   "outputs": [],
   "source": [
    "import numpy as np\n",
    "import pandas as pd\n",
    "import matplotlib.pyplot as plt\n",
    "import seaborn as sbn"
   ]
  },
  {
   "cell_type": "code",
   "execution_count": 333,
   "metadata": {
    "collapsed": false
   },
   "outputs": [],
   "source": [
    "# Sample size\n",
    "N = 100\n",
    "\n",
    "# Number of covariates\n",
    "D = 25\n",
    "\n",
    "# Generate features iid to Gaussian\n",
    "mean = 0\n",
    "std = 1\n",
    "X = np.random.normal(loc=mean, scale=std, size=[N, D])\n",
    "\n",
    "\n",
    "# Generate treatment effect\n",
    "#beta = \n",
    "#T = 1.0 / (1.0 + np.exp(-X))"
   ]
  },
  {
   "cell_type": "code",
   "execution_count": 351,
   "metadata": {
    "collapsed": false
   },
   "outputs": [],
   "source": [
    "X_df = pd.DataFrame(X)"
   ]
  },
  {
   "cell_type": "code",
   "execution_count": 352,
   "metadata": {
    "collapsed": false
   },
   "outputs": [
    {
     "data": {
      "text/html": [
       "<div>\n",
       "<style>\n",
       "    .dataframe thead tr:only-child th {\n",
       "        text-align: right;\n",
       "    }\n",
       "\n",
       "    .dataframe thead th {\n",
       "        text-align: left;\n",
       "    }\n",
       "\n",
       "    .dataframe tbody tr th {\n",
       "        vertical-align: top;\n",
       "    }\n",
       "</style>\n",
       "<table border=\"1\" class=\"dataframe\">\n",
       "  <thead>\n",
       "    <tr style=\"text-align: right;\">\n",
       "      <th></th>\n",
       "      <th>0</th>\n",
       "      <th>1</th>\n",
       "      <th>2</th>\n",
       "      <th>3</th>\n",
       "      <th>4</th>\n",
       "      <th>5</th>\n",
       "      <th>6</th>\n",
       "      <th>7</th>\n",
       "      <th>8</th>\n",
       "      <th>9</th>\n",
       "      <th>...</th>\n",
       "      <th>15</th>\n",
       "      <th>16</th>\n",
       "      <th>17</th>\n",
       "      <th>18</th>\n",
       "      <th>19</th>\n",
       "      <th>20</th>\n",
       "      <th>21</th>\n",
       "      <th>22</th>\n",
       "      <th>23</th>\n",
       "      <th>24</th>\n",
       "    </tr>\n",
       "  </thead>\n",
       "  <tbody>\n",
       "    <tr>\n",
       "      <th>0</th>\n",
       "      <td>-0.266178</td>\n",
       "      <td>0.651935</td>\n",
       "      <td>-0.556095</td>\n",
       "      <td>1.200113</td>\n",
       "      <td>-0.130088</td>\n",
       "      <td>0.475039</td>\n",
       "      <td>-0.348025</td>\n",
       "      <td>-1.196935</td>\n",
       "      <td>0.694828</td>\n",
       "      <td>-1.382146</td>\n",
       "      <td>...</td>\n",
       "      <td>-0.482352</td>\n",
       "      <td>0.809083</td>\n",
       "      <td>0.853330</td>\n",
       "      <td>-0.510098</td>\n",
       "      <td>-1.468462</td>\n",
       "      <td>0.511090</td>\n",
       "      <td>-0.007633</td>\n",
       "      <td>0.862492</td>\n",
       "      <td>-0.405346</td>\n",
       "      <td>-0.933926</td>\n",
       "    </tr>\n",
       "    <tr>\n",
       "      <th>1</th>\n",
       "      <td>0.065991</td>\n",
       "      <td>0.187191</td>\n",
       "      <td>-1.273811</td>\n",
       "      <td>0.321281</td>\n",
       "      <td>-2.452392</td>\n",
       "      <td>1.509492</td>\n",
       "      <td>-1.549894</td>\n",
       "      <td>-0.263690</td>\n",
       "      <td>-0.659679</td>\n",
       "      <td>1.609612</td>\n",
       "      <td>...</td>\n",
       "      <td>-0.612111</td>\n",
       "      <td>-0.538115</td>\n",
       "      <td>-0.369105</td>\n",
       "      <td>0.595511</td>\n",
       "      <td>0.368058</td>\n",
       "      <td>-0.913305</td>\n",
       "      <td>2.328762</td>\n",
       "      <td>-0.247013</td>\n",
       "      <td>-0.962328</td>\n",
       "      <td>-0.181889</td>\n",
       "    </tr>\n",
       "    <tr>\n",
       "      <th>2</th>\n",
       "      <td>-0.729291</td>\n",
       "      <td>0.490497</td>\n",
       "      <td>0.373508</td>\n",
       "      <td>0.763812</td>\n",
       "      <td>0.075702</td>\n",
       "      <td>2.319498</td>\n",
       "      <td>0.371990</td>\n",
       "      <td>-1.910100</td>\n",
       "      <td>-0.646772</td>\n",
       "      <td>0.928867</td>\n",
       "      <td>...</td>\n",
       "      <td>-1.646363</td>\n",
       "      <td>-0.479393</td>\n",
       "      <td>0.419118</td>\n",
       "      <td>-0.782388</td>\n",
       "      <td>0.135929</td>\n",
       "      <td>1.721297</td>\n",
       "      <td>-1.209967</td>\n",
       "      <td>0.798655</td>\n",
       "      <td>-0.629949</td>\n",
       "      <td>0.019304</td>\n",
       "    </tr>\n",
       "    <tr>\n",
       "      <th>3</th>\n",
       "      <td>-0.471181</td>\n",
       "      <td>-0.616077</td>\n",
       "      <td>-0.204949</td>\n",
       "      <td>0.568286</td>\n",
       "      <td>0.205222</td>\n",
       "      <td>-1.020022</td>\n",
       "      <td>0.821655</td>\n",
       "      <td>0.981660</td>\n",
       "      <td>0.301099</td>\n",
       "      <td>0.675526</td>\n",
       "      <td>...</td>\n",
       "      <td>-0.555986</td>\n",
       "      <td>-0.442143</td>\n",
       "      <td>-0.882623</td>\n",
       "      <td>-0.939752</td>\n",
       "      <td>0.580947</td>\n",
       "      <td>-0.313086</td>\n",
       "      <td>-0.354034</td>\n",
       "      <td>0.321964</td>\n",
       "      <td>0.409995</td>\n",
       "      <td>-1.628792</td>\n",
       "    </tr>\n",
       "    <tr>\n",
       "      <th>4</th>\n",
       "      <td>-1.774674</td>\n",
       "      <td>2.121032</td>\n",
       "      <td>-0.370696</td>\n",
       "      <td>-1.036460</td>\n",
       "      <td>0.266106</td>\n",
       "      <td>0.558772</td>\n",
       "      <td>0.933546</td>\n",
       "      <td>-1.863529</td>\n",
       "      <td>-0.491002</td>\n",
       "      <td>-0.287252</td>\n",
       "      <td>...</td>\n",
       "      <td>0.752513</td>\n",
       "      <td>-0.033379</td>\n",
       "      <td>-0.597650</td>\n",
       "      <td>-0.020395</td>\n",
       "      <td>-0.445307</td>\n",
       "      <td>1.262137</td>\n",
       "      <td>1.156923</td>\n",
       "      <td>0.102850</td>\n",
       "      <td>0.424088</td>\n",
       "      <td>0.633404</td>\n",
       "    </tr>\n",
       "  </tbody>\n",
       "</table>\n",
       "<p>5 rows × 25 columns</p>\n",
       "</div>"
      ],
      "text/plain": [
       "         0         1         2         3         4         5         6   \\\n",
       "0 -0.266178  0.651935 -0.556095  1.200113 -0.130088  0.475039 -0.348025   \n",
       "1  0.065991  0.187191 -1.273811  0.321281 -2.452392  1.509492 -1.549894   \n",
       "2 -0.729291  0.490497  0.373508  0.763812  0.075702  2.319498  0.371990   \n",
       "3 -0.471181 -0.616077 -0.204949  0.568286  0.205222 -1.020022  0.821655   \n",
       "4 -1.774674  2.121032 -0.370696 -1.036460  0.266106  0.558772  0.933546   \n",
       "\n",
       "         7         8         9     ...           15        16        17  \\\n",
       "0 -1.196935  0.694828 -1.382146    ...    -0.482352  0.809083  0.853330   \n",
       "1 -0.263690 -0.659679  1.609612    ...    -0.612111 -0.538115 -0.369105   \n",
       "2 -1.910100 -0.646772  0.928867    ...    -1.646363 -0.479393  0.419118   \n",
       "3  0.981660  0.301099  0.675526    ...    -0.555986 -0.442143 -0.882623   \n",
       "4 -1.863529 -0.491002 -0.287252    ...     0.752513 -0.033379 -0.597650   \n",
       "\n",
       "         18        19        20        21        22        23        24  \n",
       "0 -0.510098 -1.468462  0.511090 -0.007633  0.862492 -0.405346 -0.933926  \n",
       "1  0.595511  0.368058 -0.913305  2.328762 -0.247013 -0.962328 -0.181889  \n",
       "2 -0.782388  0.135929  1.721297 -1.209967  0.798655 -0.629949  0.019304  \n",
       "3 -0.939752  0.580947 -0.313086 -0.354034  0.321964  0.409995 -1.628792  \n",
       "4 -0.020395 -0.445307  1.262137  1.156923  0.102850  0.424088  0.633404  \n",
       "\n",
       "[5 rows x 25 columns]"
      ]
     },
     "execution_count": 352,
     "metadata": {},
     "output_type": "execute_result"
    }
   ],
   "source": [
    "X_df.head()"
   ]
  },
  {
   "cell_type": "code",
   "execution_count": 390,
   "metadata": {
    "collapsed": false
   },
   "outputs": [
    {
     "name": "stdout",
     "output_type": "stream",
     "text": [
      "Before: [ -8.35999111e-01   9.84658001e-02   4.29553320e-02  -2.95189516e-01\n",
      "   1.48512593e+00   7.65032917e+00   7.20976036e+00  -1.96207607e+00\n",
      "  -7.37912750e-02   5.79631910e+00  -1.21654495e+00  -3.54324327e+00\n",
      "   1.29392220e+00   5.77921596e+00  -2.85502365e+00   6.25345397e+00\n",
      "  -9.68092251e+00   6.49621901e+00   1.40481562e+00   1.83452515e+00\n",
      "  -5.41516898e+00  -4.57294733e+00   1.75169385e+00  -7.81605218e+00\n",
      "   3.60930606e+00  -3.52464322e+00   6.82761112e-01   2.92352905e-03\n",
      "  -2.20978993e+00  -6.36921762e+00   5.02006886e+00   2.27924739e+00\n",
      "   2.27498386e+00  -3.46010540e+00   6.36286044e+00  -7.56620123e+00\n",
      "  -9.24288390e-01   3.08079735e+00  -8.45970922e-01  -8.44250762e-01\n",
      "   2.84953651e+00   5.04594241e+00  -2.60205129e+00   1.58255534e+00\n",
      "  -1.99063152e-01  -1.01627691e+01   1.34580086e+00  -5.39481310e+00\n",
      "   1.07030627e+00   8.79718945e+00  -5.69142998e+00   2.20318246e+00\n",
      "  -6.87304191e+00   1.54974253e+00   1.10308554e+01   2.05394867e-01\n",
      "   8.74146383e+00  -3.86171652e+00  -1.68022727e+00  -4.18014680e+00\n",
      "   1.81741465e+00  -3.58723243e+00   8.90713858e+00   3.11181939e+00\n",
      "   5.41241109e+00   1.51061517e+00   9.49963251e+00  -3.84110894e+00\n",
      "  -3.82344830e+00  -2.69193230e+00  -2.01314771e+00   2.40440548e+00\n",
      "   1.68989143e+00  -3.43220093e+00   3.27518339e+00   2.46283460e+00\n",
      "  -6.44102807e+00  -4.21523031e+00   4.75806507e+00  -1.04560693e+00\n",
      "   1.88689357e+00  -1.39225396e+00  -1.83078682e+00  -8.10091570e+00\n",
      "   2.01993063e+00   1.34743259e+01  -3.74798942e+00   1.00486552e+00\n",
      "   1.32422333e+01   3.48051850e+00   2.91745717e+00   9.98807977e-01\n",
      "   1.68443737e+00   9.19693526e-01  -2.37698447e+00   4.08268500e+00\n",
      "  -6.08271223e-01   8.76275354e+00  -5.12324280e+00   5.79684405e+00]\n",
      "After: [ -8.35999111e-01   9.84658001e-02   4.29553320e-02  -2.95189516e-01\n",
      "   1.48512593e+00   7.65032917e+00   7.20976036e+00  -1.96207607e+00\n",
      "  -7.37912750e-02   5.79631910e+00  -1.21654495e+00  -3.54324327e+00\n",
      "   1.29392220e+00   5.77921596e+00  -2.85502365e+00   6.25345397e+00\n",
      "  -9.68092251e+00   6.49621901e+00   1.40481562e+00   1.83452515e+00\n",
      "  -5.41516898e+00  -4.57294733e+00   1.75169385e+00  -7.81605218e+00\n",
      "   3.60930606e+00  -3.52464322e+00   6.82761112e-01   2.92352905e-03\n",
      "  -2.20978993e+00  -6.36921762e+00   5.02006886e+00   2.27924739e+00\n",
      "   2.27498386e+00  -3.46010540e+00   6.36286044e+00  -7.56620123e+00\n",
      "  -9.24288390e-01   3.08079735e+00  -8.45970922e-01  -8.44250762e-01\n",
      "   2.84953651e+00   5.04594241e+00  -2.60205129e+00   1.58255534e+00\n",
      "  -1.99063152e-01  -1.01627691e+01   1.34580086e+00  -5.39481310e+00\n",
      "   1.07030627e+00   8.79718945e+00  -5.69142998e+00   2.20318246e+00\n",
      "  -6.87304191e+00   1.54974253e+00   1.10308554e+01   2.05394867e-01\n",
      "   8.74146383e+00  -3.86171652e+00  -1.68022727e+00  -4.18014680e+00\n",
      "   1.81741465e+00  -3.58723243e+00   8.90713858e+00   3.11181939e+00\n",
      "   5.41241109e+00   1.51061517e+00   9.49963251e+00  -3.84110894e+00\n",
      "  -3.82344830e+00  -2.69193230e+00  -2.01314771e+00   2.40440548e+00\n",
      "   1.68989143e+00  -3.43220093e+00   3.27518339e+00   2.46283460e+00\n",
      "  -6.44102807e+00  -4.21523031e+00   4.75806507e+00  -1.04560693e+00\n",
      "   1.88689357e+00  -1.39225396e+00  -1.83078682e+00  -8.10091570e+00\n",
      "   2.01993063e+00   1.34743259e+01  -3.74798942e+00   1.00486552e+00\n",
      "   1.32422333e+01   3.48051850e+00   2.91745717e+00   9.98807977e-01\n",
      "   1.68443737e+00   9.19693526e-01  -2.37698447e+00   4.08268500e+00\n",
      "  -6.08271223e-01   8.76275354e+00  -5.12324280e+00   5.79684405e+00]\n",
      "Before: [ -8.35999111e-01   9.84658001e-02   4.29553320e-02  -2.95189516e-01\n",
      "   1.48512593e+00   7.65032917e+00   7.20976036e+00  -1.96207607e+00\n",
      "  -7.37912750e-02   5.79631910e+00  -1.21654495e+00  -3.54324327e+00\n",
      "   1.29392220e+00   5.77921596e+00  -2.85502365e+00   6.25345397e+00\n",
      "  -9.68092251e+00   6.49621901e+00   1.40481562e+00   1.83452515e+00\n",
      "  -5.41516898e+00  -4.57294733e+00   1.75169385e+00  -7.81605218e+00\n",
      "   3.60930606e+00  -3.52464322e+00   6.82761112e-01   2.92352905e-03\n",
      "  -2.20978993e+00  -6.36921762e+00   5.02006886e+00   2.27924739e+00\n",
      "   2.27498386e+00  -3.46010540e+00   6.36286044e+00  -7.56620123e+00\n",
      "  -9.24288390e-01   3.08079735e+00  -8.45970922e-01  -8.44250762e-01\n",
      "   2.84953651e+00   5.04594241e+00  -2.60205129e+00   1.58255534e+00\n",
      "  -1.99063152e-01  -1.01627691e+01   1.34580086e+00  -5.39481310e+00\n",
      "   1.07030627e+00   8.79718945e+00  -5.69142998e+00   2.20318246e+00\n",
      "  -6.87304191e+00   1.54974253e+00   1.10308554e+01   2.05394867e-01\n",
      "   8.74146383e+00  -3.86171652e+00  -1.68022727e+00  -4.18014680e+00\n",
      "   1.81741465e+00  -3.58723243e+00   8.90713858e+00   3.11181939e+00\n",
      "   5.41241109e+00   1.51061517e+00   9.49963251e+00  -3.84110894e+00\n",
      "  -3.82344830e+00  -2.69193230e+00  -2.01314771e+00   2.40440548e+00\n",
      "   1.68989143e+00  -3.43220093e+00   3.27518339e+00   2.46283460e+00\n",
      "  -6.44102807e+00  -4.21523031e+00   4.75806507e+00  -1.04560693e+00\n",
      "   1.88689357e+00  -1.39225396e+00  -1.83078682e+00  -8.10091570e+00\n",
      "   2.01993063e+00   1.34743259e+01  -3.74798942e+00   1.00486552e+00\n",
      "   1.32422333e+01   3.48051850e+00   2.91745717e+00   9.98807977e-01\n",
      "   1.68443737e+00   9.19693526e-01  -2.37698447e+00   4.08268500e+00\n",
      "  -6.08271223e-01   8.76275354e+00  -5.12324280e+00   5.79684405e+00]\n",
      "After: [ -8.35999111e+01   9.84658001e+00   4.29553320e+00  -2.95189516e+01\n",
      "   1.48512593e+02   7.65032917e+02   7.20976036e+02  -1.96207607e+02\n",
      "  -7.37912750e+00   5.79631910e+02  -1.21654495e+02  -3.54324327e+02\n",
      "   1.29392220e+02   5.77921596e+02  -2.85502365e+02   6.25345397e+02\n",
      "  -9.68092251e+02   6.49621901e+02   1.40481562e+02   1.83452515e+02\n",
      "  -5.41516898e+02  -4.57294733e+02   1.75169385e+02  -7.81605218e+02\n",
      "   3.60930606e+02  -3.52464322e+02   6.82761112e+01   2.92352905e-01\n",
      "  -2.20978993e+02  -6.36921762e+02   5.02006886e+02   2.27924739e+02\n",
      "   2.27498386e+02  -3.46010540e+02   6.36286044e+02  -7.56620123e+02\n",
      "  -9.24288390e+01   3.08079735e+02  -8.45970922e+01  -8.44250762e+01\n",
      "   2.84953651e+02   5.04594241e+02  -2.60205129e+02   1.58255534e+02\n",
      "  -1.99063152e+01  -1.01627691e+03   1.34580086e+02  -5.39481310e+02\n",
      "   1.07030627e+02   8.79718945e+02  -5.69142998e+02   2.20318246e+02\n",
      "  -6.87304191e+02   1.54974253e+02   1.10308554e+03   2.05394867e+01\n",
      "   8.74146383e+02  -3.86171652e+02  -1.68022727e+02  -4.18014680e+02\n",
      "   1.81741465e+02  -3.58723243e+02   8.90713858e+02   3.11181939e+02\n",
      "   5.41241109e+02   1.51061517e+02   9.49963251e+02  -3.84110894e+02\n",
      "  -3.82344830e+02  -2.69193230e+02  -2.01314771e+02   2.40440548e+02\n",
      "   1.68989143e+02  -3.43220093e+02   3.27518339e+02   2.46283460e+02\n",
      "  -6.44102807e+02  -4.21523031e+02   4.75806507e+02  -1.04560693e+02\n",
      "   1.88689357e+02  -1.39225396e+02  -1.83078682e+02  -8.10091570e+02\n",
      "   2.01993063e+02   1.34743259e+03  -3.74798942e+02   1.00486552e+02\n",
      "   1.32422333e+03   3.48051850e+02   2.91745717e+02   9.98807977e+01\n",
      "   1.68443737e+02   9.19693526e+01  -2.37698447e+02   4.08268500e+02\n",
      "  -6.08271223e+01   8.76275354e+02  -5.12324280e+02   5.79684405e+02]\n"
     ]
    },
    {
     "name": "stderr",
     "output_type": "stream",
     "text": [
      "//anaconda/envs/ox-dl-py3/lib/python3.5/site-packages/ipykernel/__main__.py:9: RuntimeWarning: overflow encountered in exp\n"
     ]
    }
   ],
   "source": [
    "ratios = []\n",
    "for alpha in [1.0, 100.0]:    \n",
    "    #beta = alpha * np.linspace(start=1, stop=0.01, num=D)\n",
    "    \n",
    "    print('Before:', np.sum(X, axis=1))\n",
    "    A = X * alpha# np.dot(X, np.transpose(beta))\n",
    "    print('After:', np.sum(A, axis=1))\n",
    "    \n",
    "    t = 1.0 / (1.0 + np.exp(-np.sum(A, axis=1)))\n",
    "    T = np.random.binomial(n=1, p=t)\n",
    "    \n",
    "    #print(np.mean(T))\n",
    "\n",
    "    ratios.append(np.mean(T))\n",
    "    \n",
    "    "
   ]
  },
  {
   "cell_type": "code",
   "execution_count": 391,
   "metadata": {
    "collapsed": false
   },
   "outputs": [
    {
     "data": {
      "image/png": "[encoded data removed]",
      "text/plain": [
       "<matplotlib.figure.Figure at 0x1105146a0>"
      ]
     },
     "metadata": {},
     "output_type": "display_data"
    }
   ],
   "source": [
    "plt.plot(ratios)\n",
    "plt.show()"
   ]
  },
  {
   "cell_type": "code",
   "execution_count": 381,
   "metadata": {
    "collapsed": false
   },
   "outputs": [
    {
     "data": {
      "text/plain": [
       "array([[ -2.66177711,   6.51935366,  -5.56095341, ...,   8.62491646,\n",
       "         -4.05346415,  -9.33925727],\n",
       "       [  0.65990893,   1.87190526, -12.73810741, ...,  -2.4701268 ,\n",
       "         -9.62327518,  -1.81889032],\n",
       "       [ -7.29290528,   4.90496563,   3.73507795, ...,   7.98655323,\n",
       "         -6.29948542,   0.19303981],\n",
       "       ..., \n",
       "       [ 16.92908526,   4.17938299,  -6.55480663, ...,   4.75818153,\n",
       "         19.14474127,   1.10108756],\n",
       "       [-34.12765387,   6.81545548,  21.21758033, ...,   1.78161992,\n",
       "         -4.17495807,   1.56922773],\n",
       "       [  2.54971979,  20.04496665,   5.9470852 , ...,  -6.58905881,\n",
       "        -18.33724521,   0.35234367]])"
      ]
     },
     "execution_count": 381,
     "metadata": {},
     "output_type": "execute_result"
    }
   ],
   "source": [
    "X * 10.0"
   ]
  },
  {
   "cell_type": "code",
   "execution_count": 149,
   "metadata": {
    "collapsed": false
   },
   "outputs": [
    {
     "data": {
      "image/png": "[encoded data removed]",
      "text/plain": [
       "<matplotlib.figure.Figure at 0x111366278>"
      ]
     },
     "metadata": {},
     "output_type": "display_data"
    }
   ],
   "source": [
    "plt.hist(t)\n",
    "plt.show()"
   ]
  },
  {
   "cell_type": "code",
   "execution_count": 152,
   "metadata": {
    "collapsed": false
   },
   "outputs": [
    {
     "data": {
      "image/png": "[encoded data removed]",
      "text/plain": [
       "<matplotlib.figure.Figure at 0x11078f630>"
      ]
     },
     "metadata": {},
     "output_type": "display_data"
    }
   ],
   "source": [
    "plt.hist(T)\n",
    "plt.show()"
   ]
  },
  {
   "cell_type": "code",
   "execution_count": 204,
   "metadata": {
    "collapsed": false
   },
   "outputs": [
    {
     "data": {
      "text/plain": [
       "array([ 0.712, -0.008])"
      ]
     },
     "execution_count": 204,
     "metadata": {},
     "output_type": "execute_result"
    }
   ],
   "source": [
    "x = [[0.3, 1.2, -0.1], [0.2, -0.7, 1.4]]\n",
    "alpha = 0.8\n",
    "beta = [alpha, 0.5 * alpha, 0.1 * alpha]\n",
    "\n",
    "np.dot(x, np.transpose(beta))"
   ]
  },
  {
   "cell_type": "code",
   "execution_count": null,
   "metadata": {
    "collapsed": true
   },
   "outputs": [],
   "source": []
  }
 ],
 "metadata": {
  "anaconda-cloud": {},
  "kernelspec": {
   "display_name": "Python [conda env:ox-dl-py3]",
   "language": "python",
   "name": "conda-env-ox-dl-py3-py"
  },
  "language_info": {
   "codemirror_mode": {
    "name": "ipython",
    "version": 3
   },
   "file_extension": ".py",
   "mimetype": "text/x-python",
   "name": "python",
   "nbconvert_exporter": "python",
   "pygments_lexer": "ipython3",
   "version": "3.5.0"
  }
 },
 "nbformat": 4,
 "nbformat_minor": 1
}
