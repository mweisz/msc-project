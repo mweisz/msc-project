{
 "cells": [
  {
   "cell_type": "code",
   "execution_count": 2,
   "metadata": {
    "collapsed": true
   },
   "outputs": [],
   "source": [
    "import pandas as pd\n",
    "import numpy as np"
   ]
  },
  {
   "cell_type": "markdown",
   "metadata": {},
   "source": [
    "### Parse UNOS"
   ]
  },
  {
   "cell_type": "code",
   "execution_count": 3,
   "metadata": {
    "collapsed": false
   },
   "outputs": [],
   "source": [
    "def parse_UNOS():\n",
    "    \"\"\" Create dataframe of the format [T, Y, X_1, ..., X_D] from the features and outcomes CSV files. \"\"\"\n",
    "    # Read CSV files\n",
    "    path_features = 'unos/raw/features.csv'\n",
    "    path_outcomes = 'unos/raw/outcomes.csv'\n",
    "    features_df = pd.read_csv(path_features)\n",
    "    outcomes_df = pd.read_csv(path_outcomes)\n",
    "\n",
    "    # Add column names as headers\n",
    "    feature_col_names = ['Age', 'Gender', 'Ischemic Time', 'Diabetes', 'Infection', 'Transfusion', 'Previous Transplant', 'Number of Previous Transplant', 'Ventilator Assist', 'ECMO Assist', 'Vent Support', 'Creatinine', 'Bilirubin', 'PRA', 'HLA Mismatch', 'Blood Type A', 'Blood Type B', 'Blood Type O', 'Blood Type AB', 'Dialysis', 'IABP', 'Donor Age', 'Donor Gender', 'Donor Blood Type A', 'Donor Blood Type B', 'Donor Blood Type O', 'Donor Blood Type AB', 'ABO Equal', 'ABO_Compatible', 'ABO_Incompatible', 'HEP C Antigen', 'Donor Diabetes', 'Distance', 'Days in State 1', 'Days in State 1A', 'Days in State 2', 'Days in State 1B', 'BMI', 'Donor BMI', 'VAD Assist', 'Total Artificial Heart', 'Inotropic', 'A Mismatch', 'B Mismatch', 'DR Mismatch', 'Height Difference', 'Weight Difference', 'LVAD at listing', 'LVAD while listed', 'LVAD']\n",
    "    features_df.columns = feature_col_names\n",
    "\n",
    "    outcomes_col_names = ['Survival Time', 'Censored (Censored = 1)', 'Transplant Year']\n",
    "    outcomes_df.columns = outcomes_col_names\n",
    "\n",
    "    # Extract treatment assignment (and drop unneeded ones)\n",
    "    treatment_col = features_df['LVAD']\n",
    "    features_df = features_df.drop(['LVAD at listing', 'LVAD while listed', 'LVAD'], axis=1)\n",
    "\n",
    "    # Extract outcome\n",
    "    outcome_col = outcomes_df['Survival Time']\n",
    "\n",
    "    # Create Output dataframe of the form ([T,Y, X_1, ... X_D])\n",
    "    unos_df = pd.concat([treatment_col, outcome_col, features_df], axis=1)\n",
    "    \n",
    "    return unos_df"
   ]
  },
  {
   "cell_type": "code",
   "execution_count": 4,
   "metadata": {
    "collapsed": false
   },
   "outputs": [],
   "source": [
    "def create_CSV(unos_df, output_filename):\n",
    "    \"\"\" Writes CSV file of the format [T, X_1, ..., X_D]. \"\"\"\n",
    "\n",
    "    # Drop Outcome\n",
    "    unos_df = unos_df.drop('Survival Time', axis=1)\n",
    "    \n",
    "    unos_df.to_csv(output_filename,index=None)\n"
   ]
  },
  {
   "cell_type": "code",
   "execution_count": 5,
   "metadata": {
    "collapsed": true
   },
   "outputs": [],
   "source": [
    "unos_df = parse_UNOS()\n",
    "create_CSV(unos_df, 'unos/unos_sample.csv')"
   ]
  },
  {
   "cell_type": "code",
   "execution_count": 6,
   "metadata": {
    "collapsed": false
   },
   "outputs": [
    {
     "data": {
      "text/plain": [
       "(60399, 48)"
      ]
     },
     "execution_count": 6,
     "metadata": {},
     "output_type": "execute_result"
    }
   ],
   "source": [
    "unos_df\n",
    "# Features\n",
    "X = np.array(unos_df.drop('LVAD', axis=1))\n",
    "X.shape"
   ]
  },
  {
   "cell_type": "markdown",
   "metadata": {},
   "source": [
    "### Test Synthetic Model"
   ]
  },
  {
   "cell_type": "code",
   "execution_count": 64,
   "metadata": {
    "collapsed": false
   },
   "outputs": [],
   "source": [
    "import unos"
   ]
  },
  {
   "cell_type": "code",
   "execution_count": 65,
   "metadata": {
    "collapsed": false
   },
   "outputs": [
    {
     "data": {
      "text/html": [
       "<div>\n",
       "<style>\n",
       "    .dataframe thead tr:only-child th {\n",
       "        text-align: right;\n",
       "    }\n",
       "\n",
       "    .dataframe thead th {\n",
       "        text-align: left;\n",
       "    }\n",
       "\n",
       "    .dataframe tbody tr th {\n",
       "        vertical-align: top;\n",
       "    }\n",
       "</style>\n",
       "<table border=\"1\" class=\"dataframe\">\n",
       "  <thead>\n",
       "    <tr style=\"text-align: right;\">\n",
       "      <th></th>\n",
       "      <th>Age</th>\n",
       "      <th>Gender</th>\n",
       "      <th>Ischemic Time</th>\n",
       "      <th>Diabetes</th>\n",
       "      <th>Infection</th>\n",
       "      <th>Transfusion</th>\n",
       "      <th>Previous Transplant</th>\n",
       "      <th>Number of Previous Transplant</th>\n",
       "      <th>Ventilator Assist</th>\n",
       "      <th>ECMO Assist</th>\n",
       "      <th>...</th>\n",
       "      <th>Total Artificial Heart</th>\n",
       "      <th>Inotropic</th>\n",
       "      <th>A Mismatch</th>\n",
       "      <th>B Mismatch</th>\n",
       "      <th>DR Mismatch</th>\n",
       "      <th>Height Difference</th>\n",
       "      <th>Weight Difference</th>\n",
       "      <th>Treatment</th>\n",
       "      <th>Response</th>\n",
       "      <th>TE</th>\n",
       "    </tr>\n",
       "  </thead>\n",
       "  <tbody>\n",
       "    <tr>\n",
       "      <th>0</th>\n",
       "      <td>0.588784</td>\n",
       "      <td>1.0</td>\n",
       "      <td>0.100874</td>\n",
       "      <td>0.0</td>\n",
       "      <td>0.0</td>\n",
       "      <td>1.0</td>\n",
       "      <td>0.0</td>\n",
       "      <td>-0.172572</td>\n",
       "      <td>0.0</td>\n",
       "      <td>0.0</td>\n",
       "      <td>...</td>\n",
       "      <td>0.0</td>\n",
       "      <td>0.0</td>\n",
       "      <td>-0.618402</td>\n",
       "      <td>-1.325673</td>\n",
       "      <td>-0.817274</td>\n",
       "      <td>-0.610968</td>\n",
       "      <td>-0.327164</td>\n",
       "      <td>0.0</td>\n",
       "      <td>13.756142</td>\n",
       "      <td>53.686792</td>\n",
       "    </tr>\n",
       "    <tr>\n",
       "      <th>1</th>\n",
       "      <td>-0.040007</td>\n",
       "      <td>0.0</td>\n",
       "      <td>1.511202</td>\n",
       "      <td>0.0</td>\n",
       "      <td>0.0</td>\n",
       "      <td>0.0</td>\n",
       "      <td>0.0</td>\n",
       "      <td>-0.172572</td>\n",
       "      <td>0.0</td>\n",
       "      <td>0.0</td>\n",
       "      <td>...</td>\n",
       "      <td>0.0</td>\n",
       "      <td>0.0</td>\n",
       "      <td>-0.618402</td>\n",
       "      <td>-1.325673</td>\n",
       "      <td>-0.817274</td>\n",
       "      <td>0.391748</td>\n",
       "      <td>-0.472409</td>\n",
       "      <td>0.0</td>\n",
       "      <td>13.286175</td>\n",
       "      <td>51.946993</td>\n",
       "    </tr>\n",
       "    <tr>\n",
       "      <th>2</th>\n",
       "      <td>-0.511600</td>\n",
       "      <td>1.0</td>\n",
       "      <td>-0.035492</td>\n",
       "      <td>0.0</td>\n",
       "      <td>0.0</td>\n",
       "      <td>0.0</td>\n",
       "      <td>0.0</td>\n",
       "      <td>-0.172572</td>\n",
       "      <td>0.0</td>\n",
       "      <td>0.0</td>\n",
       "      <td>...</td>\n",
       "      <td>0.0</td>\n",
       "      <td>0.0</td>\n",
       "      <td>0.924703</td>\n",
       "      <td>-1.325673</td>\n",
       "      <td>-0.817274</td>\n",
       "      <td>-0.337197</td>\n",
       "      <td>-0.785245</td>\n",
       "      <td>0.0</td>\n",
       "      <td>31.969239</td>\n",
       "      <td>34.802092</td>\n",
       "    </tr>\n",
       "    <tr>\n",
       "      <th>3</th>\n",
       "      <td>0.536385</td>\n",
       "      <td>0.0</td>\n",
       "      <td>0.540629</td>\n",
       "      <td>0.0</td>\n",
       "      <td>0.0</td>\n",
       "      <td>0.0</td>\n",
       "      <td>0.0</td>\n",
       "      <td>-0.172572</td>\n",
       "      <td>0.0</td>\n",
       "      <td>0.0</td>\n",
       "      <td>...</td>\n",
       "      <td>0.0</td>\n",
       "      <td>0.0</td>\n",
       "      <td>0.924703</td>\n",
       "      <td>-1.325673</td>\n",
       "      <td>0.846109</td>\n",
       "      <td>-0.575193</td>\n",
       "      <td>0.785312</td>\n",
       "      <td>0.0</td>\n",
       "      <td>22.689151</td>\n",
       "      <td>42.451702</td>\n",
       "    </tr>\n",
       "    <tr>\n",
       "      <th>4</th>\n",
       "      <td>0.536385</td>\n",
       "      <td>1.0</td>\n",
       "      <td>-1.127057</td>\n",
       "      <td>0.0</td>\n",
       "      <td>1.0</td>\n",
       "      <td>0.0</td>\n",
       "      <td>0.0</td>\n",
       "      <td>-0.172572</td>\n",
       "      <td>0.0</td>\n",
       "      <td>0.0</td>\n",
       "      <td>...</td>\n",
       "      <td>0.0</td>\n",
       "      <td>1.0</td>\n",
       "      <td>0.924703</td>\n",
       "      <td>-1.325673</td>\n",
       "      <td>-0.817274</td>\n",
       "      <td>0.788911</td>\n",
       "      <td>0.133408</td>\n",
       "      <td>0.0</td>\n",
       "      <td>35.791539</td>\n",
       "      <td>31.432988</td>\n",
       "    </tr>\n",
       "  </tbody>\n",
       "</table>\n",
       "<p>5 rows × 50 columns</p>\n",
       "</div>"
      ],
      "text/plain": [
       "        Age  Gender  Ischemic Time  Diabetes  Infection  Transfusion  \\\n",
       "0  0.588784     1.0       0.100874       0.0        0.0          1.0   \n",
       "1 -0.040007     0.0       1.511202       0.0        0.0          0.0   \n",
       "2 -0.511600     1.0      -0.035492       0.0        0.0          0.0   \n",
       "3  0.536385     0.0       0.540629       0.0        0.0          0.0   \n",
       "4  0.536385     1.0      -1.127057       0.0        1.0          0.0   \n",
       "\n",
       "   Previous Transplant  Number of Previous Transplant  Ventilator Assist  \\\n",
       "0                  0.0                      -0.172572                0.0   \n",
       "1                  0.0                      -0.172572                0.0   \n",
       "2                  0.0                      -0.172572                0.0   \n",
       "3                  0.0                      -0.172572                0.0   \n",
       "4                  0.0                      -0.172572                0.0   \n",
       "\n",
       "   ECMO Assist    ...      Total Artificial Heart  Inotropic  A Mismatch  \\\n",
       "0          0.0    ...                         0.0        0.0   -0.618402   \n",
       "1          0.0    ...                         0.0        0.0   -0.618402   \n",
       "2          0.0    ...                         0.0        0.0    0.924703   \n",
       "3          0.0    ...                         0.0        0.0    0.924703   \n",
       "4          0.0    ...                         0.0        1.0    0.924703   \n",
       "\n",
       "   B Mismatch  DR Mismatch  Height Difference  Weight Difference  Treatment  \\\n",
       "0   -1.325673    -0.817274          -0.610968          -0.327164        0.0   \n",
       "1   -1.325673    -0.817274           0.391748          -0.472409        0.0   \n",
       "2   -1.325673    -0.817274          -0.337197          -0.785245        0.0   \n",
       "3   -1.325673     0.846109          -0.575193           0.785312        0.0   \n",
       "4   -1.325673    -0.817274           0.788911           0.133408        0.0   \n",
       "\n",
       "    Response         TE  \n",
       "0  13.756142  53.686792  \n",
       "1  13.286175  51.946993  \n",
       "2  31.969239  34.802092  \n",
       "3  22.689151  42.451702  \n",
       "4  35.791539  31.432988  \n",
       "\n",
       "[5 rows x 50 columns]"
      ]
     },
     "execution_count": 65,
     "metadata": {},
     "output_type": "execute_result"
    }
   ],
   "source": [
    "unos_generator = unos.UNOS_data('unos/unos_sample.csv')\n",
    "unos_df = unos_generator.draw_sample()\n",
    "\n",
    "unos_df.head()"
   ]
  },
  {
   "cell_type": "code",
   "execution_count": null,
   "metadata": {
    "collapsed": true
   },
   "outputs": [],
   "source": []
  }
 ],
 "metadata": {
  "anaconda-cloud": {},
  "kernelspec": {
   "display_name": "Python [conda env:ox-dl-py3]",
   "language": "python",
   "name": "conda-env-ox-dl-py3-py"
  },
  "language_info": {
   "codemirror_mode": {
    "name": "ipython",
    "version": 3
   },
   "file_extension": ".py",
   "mimetype": "text/x-python",
   "name": "python",
   "nbconvert_exporter": "python",
   "pygments_lexer": "ipython3",
   "version": "3.5.0"
  }
 },
 "nbformat": 4,
 "nbformat_minor": 1
}
